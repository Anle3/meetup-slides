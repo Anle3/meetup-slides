{
 "cells": [
  {
   "cell_type": "markdown",
   "metadata": {
    "slideshow": {
     "slide_type": "slide"
    }
   },
   "source": [
    "# PyData Berlin October meetup\n",
    "\n",
    "### Political Bias Hackathon (with Felix Biessmann)\n",
    "### https://www.youtube.com/PyDataTV/playlists (PyData Berlin 2016)\n",
    "\n",
    "## info@pydata.berlin\n",
    "## @pydataberlin"
   ]
  },
  {
   "cell_type": "markdown",
   "metadata": {
    "ExecuteTime": {
     "end_time": "2016-10-19T10:10:36.837332",
     "start_time": "2016-10-19T10:10:36.829604"
    },
    "slideshow": {
     "slide_type": "slide"
    }
   },
   "source": [
    "![](assets/PyDataBerlinOct.png)"
   ]
  },
  {
   "cell_type": "markdown",
   "metadata": {
    "slideshow": {
     "slide_type": "subslide"
    }
   },
   "source": [
    "# New Slack team for all Python users in Berlin\n",
    "## http://pythonberlin.eu.ngrok.io\n",
    "\n",
    "---"
   ]
  },
  {
   "cell_type": "markdown",
   "metadata": {
    "slideshow": {
     "slide_type": "subslide"
    }
   },
   "source": [
    "# datanatives.io (October 26 – 28)\n",
    "- DNLOVESPY50 (50% OFF)\n",
    "- raffle for free tickets (check your email)\n",
    "- @kjam `Learning Python for Data Analysis`\n",
    "  - seats still available\n",
    "---"
   ]
  },
  {
   "cell_type": "markdown",
   "metadata": {
    "slideshow": {
     "slide_type": "subslide"
    }
   },
   "source": [
    "# Jewish Museum - Golem exhibition (end of Jan)\n",
    "\n",
    "> The myth of artificial life – from homunculi and cyborgs to robots and androids – is the focus of an extensive thematic exhibition about the golem at the Jewish Museum Berlin."
   ]
  }
 ],
 "metadata": {
  "celltoolbar": "Slideshow",
  "kernelspec": {
   "display_name": "Python 3",
   "language": "python",
   "name": "python3"
  },
  "language_info": {
   "codemirror_mode": {
    "name": "ipython",
    "version": 3
   },
   "file_extension": ".py",
   "mimetype": "text/x-python",
   "name": "python",
   "nbconvert_exporter": "python",
   "pygments_lexer": "ipython3",
   "version": "3.5.2"
  }
 },
 "nbformat": 4,
 "nbformat_minor": 1
}
