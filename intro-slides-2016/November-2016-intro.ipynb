{
 "cells": [
  {
   "cell_type": "markdown",
   "metadata": {
    "slideshow": {
     "slide_type": "slide"
    }
   },
   "source": [
    "# PyData Berlin November meetup\n",
    "\n",
    "<center>\n",
    "<img src=./assets/PyDataLogoBerlin_BearOnly_Logo4x3.png width=400 style=\"display:inline\"/>\n",
    "</center>"
   ]
  },
  {
   "cell_type": "markdown",
   "metadata": {
    "slideshow": {
     "slide_type": "slide"
    }
   },
   "source": [
    "## Paul Boes (Graphite)\n",
    "\n",
    "### Lightning talks\n",
    "\n",
    "# @pydataberlin\n",
    "### thank you to ResearchGate for hosting us"
   ]
  },
  {
   "cell_type": "markdown",
   "metadata": {
    "slideshow": {
     "slide_type": "slide"
    }
   },
   "source": [
    "# New Slack team for all Python users in Berlin\n",
    "## http://pythonberlin.eu.ngrok.io\n",
    "\n",
    "---"
   ]
  },
  {
   "cell_type": "markdown",
   "metadata": {
    "slideshow": {
     "slide_type": "slide"
    }
   },
   "source": [
    "# Mobility Hacks\n",
    "\n",
    "> Do you love your bike, your car, your hoverboard or your wheel shoes? Do you want to solve the big problems of big cities? Do you love coding, little sleep and caffeine? Especially together? Join us and 100 developers, designers and mobility enthusiasts to disrupt mobility within 24 hours!\n",
    "\n",
    "## PYDATABERLIN\n",
    "\n",
    "## http://www.mobility-hacks.de/"
   ]
  }
 ],
 "metadata": {
  "celltoolbar": "Slideshow",
  "kernelspec": {
   "display_name": "Python 3",
   "language": "python",
   "name": "python3"
  },
  "language_info": {
   "codemirror_mode": {
    "name": "ipython",
    "version": 3
   },
   "file_extension": ".py",
   "mimetype": "text/x-python",
   "name": "python",
   "nbconvert_exporter": "python",
   "pygments_lexer": "ipython3",
   "version": "3.5.2"
  }
 },
 "nbformat": 4,
 "nbformat_minor": 1
}
