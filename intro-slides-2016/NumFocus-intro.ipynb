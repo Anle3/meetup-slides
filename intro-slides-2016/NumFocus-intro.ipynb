{
 "cells": [
  {
   "cell_type": "markdown",
   "metadata": {
    "slideshow": {
     "slide_type": "slide"
    }
   },
   "source": [
    "![](assets/numfocus.png)\n",
    "\n",
    "<img src=assets/PyDataLogoBerlin_BearOnly_Logo4x3.png width=250 />\n",
    "\n",
    "\n",
    "## American non-profit, founded 2012\n",
    "\n",
    "----\n",
    "\n",
    "### better science through open source software\n",
    "### community of users and developers"
   ]
  },
  {
   "cell_type": "markdown",
   "metadata": {
    "slideshow": {
     "slide_type": "slide"
    }
   },
   "source": [
    "# Fiscal sponsorship\n",
    "\n",
    "### IPython, Julia, Jupyter, NumPy, Pandas, matplotlib, cython ...\n",
    "\n",
    "\n",
    "![](assets/numfocus-sponsored-projects-logos.png)"
   ]
  },
  {
   "cell_type": "markdown",
   "metadata": {
    "slideshow": {
     "slide_type": "subslide"
    }
   },
   "source": [
    "<center><img src=./assets/numpy-ecosystem.png width=500 /></center>\n",
    "\n",
    "## \\#tinael"
   ]
  },
  {
   "cell_type": "markdown",
   "metadata": {
    "slideshow": {
     "slide_type": "notes"
    }
   },
   "source": [
    "\n",
    "# purpose\n",
    "- support open source projects through fiscal sponsorships and partnerships\n",
    "- provide education for scientists working in different fields in research practices and using said software\n",
    "  - datacarpentry and software carpentry\n",
    "\n",
    "# the numpy / python scientific stack\n",
    "- concentric circles\n",
    "  - core = numpy / pytables / cython\n",
    "    - C / Fortran\n",
    "  - machine learning / plotting / analysis\n",
    "  - workflows / training"
   ]
  },
  {
   "cell_type": "markdown",
   "metadata": {
    "slideshow": {
     "slide_type": "slide"
    }
   },
   "source": [
    "# John Hunter Fellowship\n",
    "\n",
    "## $33K for 6 months\n",
    "\n",
    "### Aimed for Post-Docs going from academia to industry\n",
    "\n",
    "http://www.numfocus.org/john-hunter-technology-fellowship.html"
   ]
  },
  {
   "cell_type": "markdown",
   "metadata": {
    "slideshow": {
     "slide_type": "notes"
    }
   },
   "source": [
    "The John Hunter Technology Fellowship aims to bridge the gap between academia and real-world, open-source scientific computing projects by providing a capstone experience for individuals coming from a scientific educational background.\n",
    "\n",
    "The program consists of a 6 month project-based training program for postdoctoral scientists or senior graduate students.  Fellows work on scientific computing open source projects under the guidance of mentors who are leading scientists and software engineers.  The aim of the Fellowship is to enable Fellows to develop the skills needed to contribute to cutting-edge open source software projects while at the same time advancing or supporting the research program they and their mentor are involved in."
   ]
  },
  {
   "cell_type": "markdown",
   "metadata": {
    "slideshow": {
     "slide_type": "slide"
    }
   },
   "source": [
    "# Data Carpentry\n",
    "\n",
    "> Data Carpentry trains researchers in the core data skills for efficient, shareable, and reproducible research practices. We run accessible, inclusive training workshops; teach openly available, high-quality, domain-tailored lessons; and foster an active, inclusive, diverse instructor community that promotes and models reproducible research as a community norm.\n",
    "\n",
    "http://datacarpentry.org"
   ]
  },
  {
   "cell_type": "markdown",
   "metadata": {
    "slideshow": {
     "slide_type": "slide"
    }
   },
   "source": [
    "# PyData Meetups and Conferences\n",
    "\n",
    "## 36 meetups worldwide\n",
    "\n",
    "\n",
    "\n",
    "## 10 conferences worldwide 2016"
   ]
  },
  {
   "cell_type": "markdown",
   "metadata": {
    "slideshow": {
     "slide_type": "subslide"
    }
   },
   "source": [
    "![](./assets/groups.png)"
   ]
  },
  {
   "cell_type": "markdown",
   "metadata": {
    "slideshow": {
     "slide_type": "slide"
    }
   },
   "source": [
    "# 4th PyData Berlin (2017)\n",
    "\n",
    "## Looking for a venue, sponsors and people to help\n",
    "\n",
    "---\n",
    "\n",
    "### http://numfocus.org\n",
    "### http://pydata.org\n",
    "\n",
    "### @pydataberlin"
   ]
  }
 ],
 "metadata": {
  "celltoolbar": "Slideshow",
  "kernelspec": {
   "display_name": "Python 3",
   "language": "python",
   "name": "python3"
  },
  "language_info": {
   "codemirror_mode": {
    "name": "ipython",
    "version": 3
   },
   "file_extension": ".py",
   "mimetype": "text/x-python",
   "name": "python",
   "nbconvert_exporter": "python",
   "pygments_lexer": "ipython3",
   "version": "3.5.2"
  }
 },
 "nbformat": 4,
 "nbformat_minor": 1
}
